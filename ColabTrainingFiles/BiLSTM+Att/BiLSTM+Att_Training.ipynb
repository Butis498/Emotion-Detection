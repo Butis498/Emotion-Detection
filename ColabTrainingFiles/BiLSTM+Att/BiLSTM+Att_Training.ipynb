{
  "nbformat": 4,
  "nbformat_minor": 0,
  "metadata": {
    "colab": {
      "name": "Training.ipynb",
      "provenance": [],
      "collapsed_sections": []
    },
    "kernelspec": {
      "name": "python3810jvsc74a57bd09ed73c1c5a05b24bdd4c0a62638bb5a87ca19f131bafa40f0b550f09ed67cb20",
      "display_name": "Python 3.8.10 64-bit (windows store)"
    },
    "language_info": {
      "name": "python",
      "version": "3.8.10"
    },
    "accelerator": "TPU",
    "metadata": {
      "interpreter": {
        "hash": "9ed73c1c5a05b24bdd4c0a62638bb5a87ca19f131bafa40f0b550f09ed67cb20"
      }
    }
  },
  "cells": [
    {
      "cell_type": "code",
      "metadata": {
        "id": "keCVHltpiMpW"
      },
      "source": [
        "from tensorflow.keras import layers\n",
        "import pandas as pd\n",
        "import numpy as np \n",
        "import re\n",
        "from sklearn.model_selection import train_test_split\n",
        "from sklearn.metrics import accuracy_score\n",
        "import spacy\n",
        "from tensorflow.keras.models import Sequential\n",
        "from tensorflow.keras.preprocessing.text import Tokenizer\n",
        "from tensorflow.keras.preprocessing.sequence import pad_sequences\n",
        "from sklearn.preprocessing import OneHotEncoder\n",
        "import itertools\n",
        "from tensorflow.keras.callbacks import EarlyStopping, ModelCheckpoint\n",
        "from tensorflow import keras\n",
        "from AttentionClass import Attention\n",
        "from pathlib import Path\n",
        "import csv, re, os \n",
        "from sklearn.preprocessing import StandardScaler\n",
        "from keras import regularizers\n",
        "import tensorflow as tf\n",
        "import matplotlib.pyplot as plt\n",
        "import pickle"
      ],
      "execution_count": 47,
      "outputs": []
    },
    {
      "cell_type": "code",
      "metadata": {
        "id": "LIqX8_oZmNAC",
        "colab": {
          "base_uri": "https://localhost:8080/"
        },
        "outputId": "92f3a810-30a3-45e9-d296-fd15bf4bf70e"
      },
      "source": [
        "def Load_Data(exeptions:list):\n",
        "    # Get Input and Target Data\n",
        "    input_data = np.ones([1, 60])\n",
        "    target_data_binary_PHQ = [0]\n",
        "    target_data_score_PHQ = [0]\n",
        "    shape=[0]\n",
        "    \n",
        "    i = 1\n",
        "    target_data_csv = Path('./full_dataset.csv')\n",
        "    with open(target_data_csv, 'r') as csvFile:\n",
        "        reader = csv.reader(csvFile)\n",
        "        for row in reader:\n",
        "            try:\n",
        "                participant_ID = str(row[1])\n",
        "                if row[2] in exeptions:\n",
        "                  continue\n",
        "                binary_PHQ8 = row[2]\n",
        "                score_PHQ8 = row[2]\n",
        "                \n",
        "                csv_file_path = './Data/'   \n",
        "                if os.path.exists(csv_file_path+participant_ID):\n",
        "                    input_directory = Path(csv_file_path)\n",
        "                    #print()\n",
        "                    #for my_csv_filename in input_directory.glob(participant_ID):  \n",
        "                        # Extract the .csv filename   \n",
        "                    my_csv_filename = participant_ID \n",
        "\n",
        "                    io = pd.read_csv(csv_file_path+my_csv_filename, sep=\",\", usecols=(1,2,3,4,5,6,7,8,9,10,11,12,13,14,15,16,17,18,19,20,21,22,23,24,25,26,27,28,29,30,31,32,33,34,35,36,37,38,39,40,41,42,43,44,45,46,47,48,49,50,51,52,53,54,55,56,57,58,59,60))\n",
        "\n",
        "                    # Get the Matrix\n",
        "                    i = i+1\n",
        "                    io = np.array(io, dtype=np.float64)\n",
        "\n",
        "                    shape=np.append(shape,io.shape[0])\n",
        "                   \n",
        "                    input_data = np.append(input_data, io, axis=0) \n",
        "\n",
        "                    for i in range(io.shape[0]):\n",
        "                        target_data_binary_PHQ.append(binary_PHQ8)\n",
        "                        target_data_score_PHQ.append(score_PHQ8)\n",
        "\n",
        "            except ValueError:\n",
        "                print(\"Skipping the following line: \", row[0])\n",
        "    csvFile.close()            \n",
        "                \n",
        "    print(\"the size of my list-input-matrix: \", i)\n",
        "    \n",
        "    \n",
        "    return input_data, target_data_binary_PHQ, target_data_score_PHQ, shape\n",
        "\n",
        "# Loading data\n",
        "input_data, target_data_binary_PHQ, target_data_score_PHQ ,shape_sequences= Load_Data(['A', 'E', 'L'])\n"
      ],
      "execution_count": 40,
      "outputs": [
        {
          "output_type": "stream",
          "text": [
            "the size of my list-input-matrix:  60\n"
          ],
          "name": "stdout"
        }
      ]
    },
    {
      "cell_type": "code",
      "metadata": {
        "id": "8uARMg8pnH7Y"
      },
      "source": [
        "X = input_data[1:]\n",
        "Y = target_data_binary_PHQ[1:]"
      ],
      "execution_count": 41,
      "outputs": []
    },
    {
      "cell_type": "code",
      "metadata": {
        "id": "qhVEsfDUkqey"
      },
      "source": [
        "\n",
        "Y = [[y] for y in Y]\n",
        "enc = OneHotEncoder(handle_unknown='ignore')\n",
        "enc.fit(Y)\n",
        "Y = enc.transform(Y).toarray()"
      ],
      "execution_count": 42,
      "outputs": []
    },
    {
      "cell_type": "code",
      "metadata": {
        "colab": {
          "base_uri": "https://localhost:8080/"
        },
        "id": "2wAhzQ99DAEy",
        "outputId": "568e370e-80fe-4ebb-e545-0975fb9e1bd9"
      },
      "source": [
        "enc.categories_"
      ],
      "execution_count": 43,
      "outputs": [
        {
          "output_type": "execute_result",
          "data": {
            "text/plain": [
              "[array(['F', 'N', 'T', 'W'], dtype=object)]"
            ]
          },
          "metadata": {
            "tags": []
          },
          "execution_count": 43
        }
      ]
    },
    {
      "cell_type": "code",
      "metadata": {
        "id": "X7ZCeJxokyh_"
      },
      "source": [
        "X_train,X_test, y_train, y_test = train_test_split(X,Y,test_size=0.20,random_state=102)"
      ],
      "execution_count": 44,
      "outputs": []
    },
    {
      "cell_type": "code",
      "metadata": {
        "id": "0a-NtRkBqvfn",
        "colab": {
          "base_uri": "https://localhost:8080/"
        },
        "outputId": "ea1232df-a72e-4773-d221-5eb53c9941ea"
      },
      "source": [
        "scaler = StandardScaler()\n",
        "X_train = scaler.fit_transform(X_train)\n",
        "X_test = scaler.transform(X_test)\n",
        "print(\"Done Scaling!\")\n",
        "with open('scaler.pickle', 'wb') as handle:\n",
        "    pickle.dump(scaler, handle, protocol=pickle.HIGHEST_PROTOCOL)\n",
        "\n",
        "# Dimensions Update\n",
        "X_train = np.expand_dims(X_train, -1)\n",
        "X_test = np.expand_dims(X_test, -1)\n",
        "print(\"Done!\")\n"
      ],
      "execution_count": 48,
      "outputs": [
        {
          "output_type": "stream",
          "text": [
            "Done Scaling!\n",
            "Done!\n"
          ],
          "name": "stdout"
        }
      ]
    },
    {
      "cell_type": "code",
      "metadata": {
        "colab": {
          "base_uri": "https://localhost:8080/",
          "height": 330
        },
        "id": "tX1gCM56U2lv",
        "outputId": "3edbcd1f-1c4f-474c-ac71-a5e914d7ca9f"
      },
      "source": [
        "plt.hist(target_data_binary_PHQ)"
      ],
      "execution_count": 13,
      "outputs": [
        {
          "output_type": "execute_result",
          "data": {
            "text/plain": [
              "(array([1.000e+00, 0.000e+00, 4.371e+03, 0.000e+00, 0.000e+00, 4.498e+03,\n",
              "        0.000e+00, 8.127e+03, 0.000e+00, 6.156e+03]),\n",
              " array([0. , 0.4, 0.8, 1.2, 1.6, 2. , 2.4, 2.8, 3.2, 3.6, 4. ]),\n",
              " <a list of 10 Patch objects>)"
            ]
          },
          "metadata": {
            "tags": []
          },
          "execution_count": 13
        },
        {
          "output_type": "display_data",
          "data": {
            "image/png": "[encoded data removed]",
            "text/plain": [
              "<Figure size 432x288 with 1 Axes>"
            ]
          },
          "metadata": {
            "tags": [],
            "needs_background": "light"
          }
        }
      ]
    },
    {
      "cell_type": "code",
      "metadata": {
        "id": "ETKjidJeVxb5"
      },
      "source": [
        "import numpy as np\n",
        "from sklearn.utils.class_weight import compute_class_weight\n",
        " \n",
        "y_integers = np.argmax(y_train, axis=1)\n",
        "class_weights = compute_class_weight('balanced', np.unique(y_integers), y_integers)\n",
        "class_weight = dict(enumerate(class_weights))"
      ],
      "execution_count": 14,
      "outputs": []
    },
    {
      "cell_type": "code",
      "metadata": {
        "colab": {
          "base_uri": "https://localhost:8080/"
        },
        "id": "dbxfTjUKr9W8",
        "outputId": "490e6164-69a0-45c0-ca61-bb09784bac0c"
      },
      "source": [
        "class_weight"
      ],
      "execution_count": 15,
      "outputs": [
        {
          "output_type": "execute_result",
          "data": {
            "text/plain": [
              "{0: 1.3102009054895303,\n",
              " 1: 1.28404048807543,\n",
              " 2: 0.9397706515120763,\n",
              " 3: 0.7174233033777503}"
            ]
          },
          "metadata": {
            "tags": []
          },
          "execution_count": 15
        }
      ]
    },
    {
      "cell_type": "code",
      "metadata": {
        "id": "BythcMvgkutk"
      },
      "source": [
        "class_weight[0] = 4"
      ],
      "execution_count": 27,
      "outputs": []
    },
    {
      "cell_type": "code",
      "metadata": {
        "id": "zAfRahzOjH-Y"
      },
      "source": [
        "\n",
        "\n",
        "def create_model():\n",
        "  model = Sequential()\n",
        "  model.add(layers.Bidirectional(layers.LSTM(units=100, return_sequences=True, dropout=0.25, recurrent_dropout=0.2),input_shape=(X_train.shape[1], 1)))\n",
        "  model.add(layers.Bidirectional(layers.LSTM(units=60, return_sequences=True, dropout=0.25, recurrent_dropout=0.2)))\n",
        "  model.add(Attention(60))\n",
        "  model.add(layers.Dropout(rate=0.2))\n",
        "  model.add(layers.Dense(256, activation='relu'))\n",
        "  model.add(layers.Dense(len(enc.categories_[0]), activation='softmax'))\n",
        "  model.compile(loss='categorical_crossentropy',optimizer='Adam',metrics=['accuracy'])\n",
        "  print(model.summary())\n",
        "  return model"
      ],
      "execution_count": 28,
      "outputs": []
    },
    {
      "cell_type": "code",
      "metadata": {
        "id": "EP4m0M6BkOLC",
        "colab": {
          "base_uri": "https://localhost:8080/"
        },
        "outputId": "81fd0e4d-7485-48fc-dd31-982aee9de283"
      },
      "source": [
        "import os\n",
        "try:\n",
        " device_name = os.environ['COLAB_TPU_ADDR']\n",
        " TPU_ADDRESS = 'grpc://' + device_name\n",
        " print('Found TPU at: {}'.format(TPU_ADDRESS))\n",
        "except KeyError:\n",
        " print('TPU not found')"
      ],
      "execution_count": 17,
      "outputs": [
        {
          "output_type": "stream",
          "text": [
            "Found TPU at: grpc://10.20.148.202:8470\n"
          ],
          "name": "stdout"
        }
      ]
    },
    {
      "cell_type": "code",
      "metadata": {
        "id": "CNDt1bAWkRf6",
        "colab": {
          "base_uri": "https://localhost:8080/"
        },
        "outputId": "8ee88281-1a62-4038-946f-4721def323b0"
      },
      "source": [
        "import tensorflow as tf\n",
        "use_tpu = True\n",
        "if use_tpu:\n",
        "    # Create distribution strategy\n",
        "    tpu = tf.distribute.cluster_resolver.TPUClusterResolver(tpu=TPU_ADDRESS)\n",
        "    tf.config.experimental_connect_to_cluster(tpu)\n",
        "    tf.tpu.experimental.initialize_tpu_system(tpu)\n",
        "    strategy = tf.distribute.experimental.TPUStrategy(tpu)\n",
        "\n",
        "    # Create model\n",
        "    with strategy.scope():\n",
        "        model = create_model()\n",
        "else:\n",
        "    model = create_model()\n",
        "\n",
        "model.summary()"
      ],
      "execution_count": 30,
      "outputs": [
        {
          "output_type": "stream",
          "text": [
            "WARNING:tensorflow:TPU system grpc://10.20.148.202:8470 has already been initialized. Reinitializing the TPU can cause previously created variables on TPU to be lost.\n"
          ],
          "name": "stdout"
        },
        {
          "output_type": "stream",
          "text": [
            "WARNING:tensorflow:TPU system grpc://10.20.148.202:8470 has already been initialized. Reinitializing the TPU can cause previously created variables on TPU to be lost.\n"
          ],
          "name": "stderr"
        },
        {
          "output_type": "stream",
          "text": [
            "INFO:tensorflow:Initializing the TPU system: grpc://10.20.148.202:8470\n"
          ],
          "name": "stdout"
        },
        {
          "output_type": "stream",
          "text": [
            "INFO:tensorflow:Initializing the TPU system: grpc://10.20.148.202:8470\n"
          ],
          "name": "stderr"
        },
        {
          "output_type": "stream",
          "text": [
            "INFO:tensorflow:Clearing out eager caches\n"
          ],
          "name": "stdout"
        },
        {
          "output_type": "stream",
          "text": [
            "INFO:tensorflow:Clearing out eager caches\n"
          ],
          "name": "stderr"
        },
        {
          "output_type": "stream",
          "text": [
            "INFO:tensorflow:Finished initializing TPU system.\n"
          ],
          "name": "stdout"
        },
        {
          "output_type": "stream",
          "text": [
            "INFO:tensorflow:Finished initializing TPU system.\n",
            "WARNING:absl:`tf.distribute.experimental.TPUStrategy` is deprecated, please use  the non experimental symbol `tf.distribute.TPUStrategy` instead.\n"
          ],
          "name": "stderr"
        },
        {
          "output_type": "stream",
          "text": [
            "INFO:tensorflow:Found TPU system:\n"
          ],
          "name": "stdout"
        },
        {
          "output_type": "stream",
          "text": [
            "INFO:tensorflow:Found TPU system:\n"
          ],
          "name": "stderr"
        },
        {
          "output_type": "stream",
          "text": [
            "INFO:tensorflow:*** Num TPU Cores: 8\n"
          ],
          "name": "stdout"
        },
        {
          "output_type": "stream",
          "text": [
            "INFO:tensorflow:*** Num TPU Cores: 8\n"
          ],
          "name": "stderr"
        },
        {
          "output_type": "stream",
          "text": [
            "INFO:tensorflow:*** Num TPU Workers: 1\n"
          ],
          "name": "stdout"
        },
        {
          "output_type": "stream",
          "text": [
            "INFO:tensorflow:*** Num TPU Workers: 1\n"
          ],
          "name": "stderr"
        },
        {
          "output_type": "stream",
          "text": [
            "INFO:tensorflow:*** Num TPU Cores Per Worker: 8\n"
          ],
          "name": "stdout"
        },
        {
          "output_type": "stream",
          "text": [
            "INFO:tensorflow:*** Num TPU Cores Per Worker: 8\n"
          ],
          "name": "stderr"
        },
        {
          "output_type": "stream",
          "text": [
            "INFO:tensorflow:*** Available Device: _DeviceAttributes(/job:localhost/replica:0/task:0/device:CPU:0, CPU, 0, 0)\n"
          ],
          "name": "stdout"
        },
        {
          "output_type": "stream",
          "text": [
            "INFO:tensorflow:*** Available Device: _DeviceAttributes(/job:localhost/replica:0/task:0/device:CPU:0, CPU, 0, 0)\n"
          ],
          "name": "stderr"
        },
        {
          "output_type": "stream",
          "text": [
            "INFO:tensorflow:*** Available Device: _DeviceAttributes(/job:worker/replica:0/task:0/device:CPU:0, CPU, 0, 0)\n"
          ],
          "name": "stdout"
        },
        {
          "output_type": "stream",
          "text": [
            "INFO:tensorflow:*** Available Device: _DeviceAttributes(/job:worker/replica:0/task:0/device:CPU:0, CPU, 0, 0)\n"
          ],
          "name": "stderr"
        },
        {
          "output_type": "stream",
          "text": [
            "INFO:tensorflow:*** Available Device: _DeviceAttributes(/job:worker/replica:0/task:0/device:TPU:0, TPU, 0, 0)\n"
          ],
          "name": "stdout"
        },
        {
          "output_type": "stream",
          "text": [
            "INFO:tensorflow:*** Available Device: _DeviceAttributes(/job:worker/replica:0/task:0/device:TPU:0, TPU, 0, 0)\n"
          ],
          "name": "stderr"
        },
        {
          "output_type": "stream",
          "text": [
            "INFO:tensorflow:*** Available Device: _DeviceAttributes(/job:worker/replica:0/task:0/device:TPU:1, TPU, 0, 0)\n"
          ],
          "name": "stdout"
        },
        {
          "output_type": "stream",
          "text": [
            "INFO:tensorflow:*** Available Device: _DeviceAttributes(/job:worker/replica:0/task:0/device:TPU:1, TPU, 0, 0)\n"
          ],
          "name": "stderr"
        },
        {
          "output_type": "stream",
          "text": [
            "INFO:tensorflow:*** Available Device: _DeviceAttributes(/job:worker/replica:0/task:0/device:TPU:2, TPU, 0, 0)\n"
          ],
          "name": "stdout"
        },
        {
          "output_type": "stream",
          "text": [
            "INFO:tensorflow:*** Available Device: _DeviceAttributes(/job:worker/replica:0/task:0/device:TPU:2, TPU, 0, 0)\n"
          ],
          "name": "stderr"
        },
        {
          "output_type": "stream",
          "text": [
            "INFO:tensorflow:*** Available Device: _DeviceAttributes(/job:worker/replica:0/task:0/device:TPU:3, TPU, 0, 0)\n"
          ],
          "name": "stdout"
        },
        {
          "output_type": "stream",
          "text": [
            "INFO:tensorflow:*** Available Device: _DeviceAttributes(/job:worker/replica:0/task:0/device:TPU:3, TPU, 0, 0)\n"
          ],
          "name": "stderr"
        },
        {
          "output_type": "stream",
          "text": [
            "INFO:tensorflow:*** Available Device: _DeviceAttributes(/job:worker/replica:0/task:0/device:TPU:4, TPU, 0, 0)\n"
          ],
          "name": "stdout"
        },
        {
          "output_type": "stream",
          "text": [
            "INFO:tensorflow:*** Available Device: _DeviceAttributes(/job:worker/replica:0/task:0/device:TPU:4, TPU, 0, 0)\n"
          ],
          "name": "stderr"
        },
        {
          "output_type": "stream",
          "text": [
            "INFO:tensorflow:*** Available Device: _DeviceAttributes(/job:worker/replica:0/task:0/device:TPU:5, TPU, 0, 0)\n"
          ],
          "name": "stdout"
        },
        {
          "output_type": "stream",
          "text": [
            "INFO:tensorflow:*** Available Device: _DeviceAttributes(/job:worker/replica:0/task:0/device:TPU:5, TPU, 0, 0)\n"
          ],
          "name": "stderr"
        },
        {
          "output_type": "stream",
          "text": [
            "INFO:tensorflow:*** Available Device: _DeviceAttributes(/job:worker/replica:0/task:0/device:TPU:6, TPU, 0, 0)\n"
          ],
          "name": "stdout"
        },
        {
          "output_type": "stream",
          "text": [
            "INFO:tensorflow:*** Available Device: _DeviceAttributes(/job:worker/replica:0/task:0/device:TPU:6, TPU, 0, 0)\n"
          ],
          "name": "stderr"
        },
        {
          "output_type": "stream",
          "text": [
            "INFO:tensorflow:*** Available Device: _DeviceAttributes(/job:worker/replica:0/task:0/device:TPU:7, TPU, 0, 0)\n"
          ],
          "name": "stdout"
        },
        {
          "output_type": "stream",
          "text": [
            "INFO:tensorflow:*** Available Device: _DeviceAttributes(/job:worker/replica:0/task:0/device:TPU:7, TPU, 0, 0)\n"
          ],
          "name": "stderr"
        },
        {
          "output_type": "stream",
          "text": [
            "INFO:tensorflow:*** Available Device: _DeviceAttributes(/job:worker/replica:0/task:0/device:TPU_SYSTEM:0, TPU_SYSTEM, 0, 0)\n"
          ],
          "name": "stdout"
        },
        {
          "output_type": "stream",
          "text": [
            "INFO:tensorflow:*** Available Device: _DeviceAttributes(/job:worker/replica:0/task:0/device:TPU_SYSTEM:0, TPU_SYSTEM, 0, 0)\n"
          ],
          "name": "stderr"
        },
        {
          "output_type": "stream",
          "text": [
            "INFO:tensorflow:*** Available Device: _DeviceAttributes(/job:worker/replica:0/task:0/device:XLA_CPU:0, XLA_CPU, 0, 0)\n"
          ],
          "name": "stdout"
        },
        {
          "output_type": "stream",
          "text": [
            "INFO:tensorflow:*** Available Device: _DeviceAttributes(/job:worker/replica:0/task:0/device:XLA_CPU:0, XLA_CPU, 0, 0)\n"
          ],
          "name": "stderr"
        },
        {
          "output_type": "stream",
          "text": [
            "Model: \"sequential_2\"\n",
            "_________________________________________________________________\n",
            "Layer (type)                 Output Shape              Param #   \n",
            "=================================================================\n",
            "bidirectional_4 (Bidirection (None, 60, 200)           81600     \n",
            "_________________________________________________________________\n",
            "bidirectional_5 (Bidirection (None, 60, 120)           125280    \n",
            "_________________________________________________________________\n",
            "attention_2 (Attention)      (None, 120)               180       \n",
            "_________________________________________________________________\n",
            "dropout_2 (Dropout)          (None, 120)               0         \n",
            "_________________________________________________________________\n",
            "dense_4 (Dense)              (None, 256)               30976     \n",
            "_________________________________________________________________\n",
            "dense_5 (Dense)              (None, 4)                 1028      \n",
            "=================================================================\n",
            "Total params: 239,064\n",
            "Trainable params: 239,064\n",
            "Non-trainable params: 0\n",
            "_________________________________________________________________\n",
            "None\n",
            "Model: \"sequential_2\"\n",
            "_________________________________________________________________\n",
            "Layer (type)                 Output Shape              Param #   \n",
            "=================================================================\n",
            "bidirectional_4 (Bidirection (None, 60, 200)           81600     \n",
            "_________________________________________________________________\n",
            "bidirectional_5 (Bidirection (None, 60, 120)           125280    \n",
            "_________________________________________________________________\n",
            "attention_2 (Attention)      (None, 120)               180       \n",
            "_________________________________________________________________\n",
            "dropout_2 (Dropout)          (None, 120)               0         \n",
            "_________________________________________________________________\n",
            "dense_4 (Dense)              (None, 256)               30976     \n",
            "_________________________________________________________________\n",
            "dense_5 (Dense)              (None, 4)                 1028      \n",
            "=================================================================\n",
            "Total params: 239,064\n",
            "Trainable params: 239,064\n",
            "Non-trainable params: 0\n",
            "_________________________________________________________________\n"
          ],
          "name": "stdout"
        }
      ]
    },
    {
      "cell_type": "code",
      "metadata": {
        "id": "T60n0N6Qkfdn",
        "colab": {
          "base_uri": "https://localhost:8080/"
        },
        "outputId": "589afcaf-0347-45c2-ff8f-54e96a13dc98"
      },
      "source": [
        "\n",
        "history = model.fit(X_train,y_train,epochs=150,verbose=1,validation_data=(X_test,y_test),\n",
        "                    callbacks=[ModelCheckpoint(filepath='best_model.h5', monitor='val_accuracy', save_best_only=True,save_weights_only=True,class_weight=class_weight)])"
      ],
      "execution_count": 31,
      "outputs": [
        {
          "output_type": "stream",
          "text": [
            "Epoch 1/150\n",
            "579/579 [==============================] - 41s 44ms/step - loss: 1.1136 - accuracy: 0.5032 - val_loss: 1.0373 - val_accuracy: 0.5398\n",
            "Epoch 2/150\n",
            "579/579 [==============================] - 22s 39ms/step - loss: 1.0238 - accuracy: 0.5431 - val_loss: 0.9806 - val_accuracy: 0.5649\n",
            "Epoch 3/150\n",
            "579/579 [==============================] - 22s 39ms/step - loss: 0.9638 - accuracy: 0.5649 - val_loss: 0.8788 - val_accuracy: 0.6124\n",
            "Epoch 4/150\n",
            "579/579 [==============================] - 23s 39ms/step - loss: 0.9155 - accuracy: 0.5867 - val_loss: 0.8455 - val_accuracy: 0.6282\n",
            "Epoch 5/150\n",
            "579/579 [==============================] - 23s 39ms/step - loss: 0.8876 - accuracy: 0.5985 - val_loss: 0.8150 - val_accuracy: 0.6418\n",
            "Epoch 6/150\n",
            "579/579 [==============================] - 23s 39ms/step - loss: 0.8687 - accuracy: 0.6089 - val_loss: 0.8418 - val_accuracy: 0.6325\n",
            "Epoch 7/150\n",
            "579/579 [==============================] - 23s 39ms/step - loss: 0.8371 - accuracy: 0.6208 - val_loss: 0.7873 - val_accuracy: 0.6526\n",
            "Epoch 8/150\n",
            "579/579 [==============================] - 23s 39ms/step - loss: 0.8168 - accuracy: 0.6301 - val_loss: 0.7256 - val_accuracy: 0.6767\n",
            "Epoch 9/150\n",
            "579/579 [==============================] - 23s 39ms/step - loss: 0.7847 - accuracy: 0.6474 - val_loss: 0.7413 - val_accuracy: 0.6651\n",
            "Epoch 10/150\n",
            "579/579 [==============================] - 22s 39ms/step - loss: 0.7654 - accuracy: 0.6557 - val_loss: 0.6887 - val_accuracy: 0.6908\n",
            "Epoch 11/150\n",
            "579/579 [==============================] - 22s 39ms/step - loss: 0.7461 - accuracy: 0.6598 - val_loss: 0.8389 - val_accuracy: 0.6517\n",
            "Epoch 12/150\n",
            "579/579 [==============================] - 23s 40ms/step - loss: 0.7267 - accuracy: 0.6711 - val_loss: 0.6901 - val_accuracy: 0.6977\n",
            "Epoch 13/150\n",
            "579/579 [==============================] - 23s 39ms/step - loss: 0.7162 - accuracy: 0.6771 - val_loss: 0.6476 - val_accuracy: 0.7102\n",
            "Epoch 14/150\n",
            "579/579 [==============================] - 23s 39ms/step - loss: 0.7050 - accuracy: 0.6827 - val_loss: 0.6755 - val_accuracy: 0.7091\n",
            "Epoch 15/150\n",
            "579/579 [==============================] - 23s 39ms/step - loss: 0.6967 - accuracy: 0.6834 - val_loss: 0.6943 - val_accuracy: 0.6968\n",
            "Epoch 16/150\n",
            "579/579 [==============================] - 23s 39ms/step - loss: 0.6796 - accuracy: 0.6925 - val_loss: 0.6401 - val_accuracy: 0.7182\n",
            "Epoch 17/150\n",
            "579/579 [==============================] - 23s 39ms/step - loss: 0.6750 - accuracy: 0.6927 - val_loss: 0.6173 - val_accuracy: 0.7296\n",
            "Epoch 18/150\n",
            "579/579 [==============================] - 23s 39ms/step - loss: 0.6644 - accuracy: 0.7009 - val_loss: 0.6398 - val_accuracy: 0.7186\n",
            "Epoch 19/150\n",
            "579/579 [==============================] - 23s 39ms/step - loss: 0.6598 - accuracy: 0.7015 - val_loss: 0.6132 - val_accuracy: 0.7344\n",
            "Epoch 20/150\n",
            "579/579 [==============================] - 23s 39ms/step - loss: 0.6488 - accuracy: 0.7101 - val_loss: 0.6417 - val_accuracy: 0.7219\n",
            "Epoch 21/150\n",
            "579/579 [==============================] - 23s 39ms/step - loss: 0.6429 - accuracy: 0.7095 - val_loss: 0.6083 - val_accuracy: 0.7363\n",
            "Epoch 22/150\n",
            "579/579 [==============================] - 23s 39ms/step - loss: 0.6389 - accuracy: 0.7110 - val_loss: 0.6938 - val_accuracy: 0.6908\n",
            "Epoch 23/150\n",
            "579/579 [==============================] - 22s 39ms/step - loss: 0.6273 - accuracy: 0.7182 - val_loss: 0.5973 - val_accuracy: 0.7359\n",
            "Epoch 24/150\n",
            "579/579 [==============================] - 22s 39ms/step - loss: 0.6244 - accuracy: 0.7196 - val_loss: 0.6071 - val_accuracy: 0.7417\n",
            "Epoch 25/150\n",
            "579/579 [==============================] - 22s 39ms/step - loss: 0.6198 - accuracy: 0.7225 - val_loss: 0.5942 - val_accuracy: 0.7402\n",
            "Epoch 26/150\n",
            "579/579 [==============================] - 23s 39ms/step - loss: 0.6125 - accuracy: 0.7273 - val_loss: 0.6125 - val_accuracy: 0.7312\n",
            "Epoch 27/150\n",
            "579/579 [==============================] - 23s 40ms/step - loss: 0.6066 - accuracy: 0.7304 - val_loss: 0.6024 - val_accuracy: 0.7359\n",
            "Epoch 28/150\n",
            "579/579 [==============================] - 22s 39ms/step - loss: 0.6026 - accuracy: 0.7297 - val_loss: 0.5782 - val_accuracy: 0.7504\n",
            "Epoch 29/150\n",
            "579/579 [==============================] - 23s 39ms/step - loss: 0.5933 - accuracy: 0.7373 - val_loss: 0.5859 - val_accuracy: 0.7499\n",
            "Epoch 30/150\n",
            "579/579 [==============================] - 22s 39ms/step - loss: 0.5949 - accuracy: 0.7313 - val_loss: 0.6098 - val_accuracy: 0.7420\n",
            "Epoch 31/150\n",
            "579/579 [==============================] - 22s 39ms/step - loss: 0.5770 - accuracy: 0.7436 - val_loss: 0.5884 - val_accuracy: 0.7469\n",
            "Epoch 32/150\n",
            "579/579 [==============================] - 22s 39ms/step - loss: 0.5774 - accuracy: 0.7442 - val_loss: 0.5831 - val_accuracy: 0.7417\n",
            "Epoch 33/150\n",
            "579/579 [==============================] - 23s 39ms/step - loss: 0.5688 - accuracy: 0.7487 - val_loss: 0.6150 - val_accuracy: 0.7355\n",
            "Epoch 34/150\n",
            "579/579 [==============================] - 23s 39ms/step - loss: 0.5742 - accuracy: 0.7466 - val_loss: 0.5811 - val_accuracy: 0.7424\n",
            "Epoch 35/150\n",
            "579/579 [==============================] - 22s 39ms/step - loss: 0.5717 - accuracy: 0.7488 - val_loss: 0.5884 - val_accuracy: 0.7376\n",
            "Epoch 36/150\n",
            "579/579 [==============================] - 22s 39ms/step - loss: 0.5621 - accuracy: 0.7502 - val_loss: 0.5904 - val_accuracy: 0.7495\n",
            "Epoch 37/150\n",
            "579/579 [==============================] - 23s 39ms/step - loss: 0.5574 - accuracy: 0.7504 - val_loss: 0.5930 - val_accuracy: 0.7450\n",
            "Epoch 38/150\n",
            "579/579 [==============================] - 23s 39ms/step - loss: 0.5532 - accuracy: 0.7527 - val_loss: 0.5723 - val_accuracy: 0.7428\n",
            "Epoch 39/150\n",
            "579/579 [==============================] - 22s 39ms/step - loss: 0.5402 - accuracy: 0.7616 - val_loss: 0.5652 - val_accuracy: 0.7551\n",
            "Epoch 40/150\n",
            "579/579 [==============================] - 22s 39ms/step - loss: 0.5416 - accuracy: 0.7635 - val_loss: 0.5547 - val_accuracy: 0.7620\n",
            "Epoch 41/150\n",
            "579/579 [==============================] - 23s 39ms/step - loss: 0.5411 - accuracy: 0.7586 - val_loss: 0.5847 - val_accuracy: 0.7482\n",
            "Epoch 42/150\n",
            "579/579 [==============================] - 23s 39ms/step - loss: 0.5375 - accuracy: 0.7618 - val_loss: 0.5673 - val_accuracy: 0.7553\n",
            "Epoch 43/150\n",
            "579/579 [==============================] - 23s 39ms/step - loss: 0.5279 - accuracy: 0.7653 - val_loss: 0.5673 - val_accuracy: 0.7538\n",
            "Epoch 44/150\n",
            "579/579 [==============================] - 23s 39ms/step - loss: 0.5277 - accuracy: 0.7671 - val_loss: 0.6051 - val_accuracy: 0.7437\n",
            "Epoch 45/150\n",
            "579/579 [==============================] - 22s 39ms/step - loss: 0.5226 - accuracy: 0.7686 - val_loss: 0.5768 - val_accuracy: 0.7521\n",
            "Epoch 46/150\n",
            "579/579 [==============================] - 23s 39ms/step - loss: 0.5178 - accuracy: 0.7718 - val_loss: 0.5763 - val_accuracy: 0.7487\n",
            "Epoch 47/150\n",
            "579/579 [==============================] - 23s 39ms/step - loss: 0.5119 - accuracy: 0.7725 - val_loss: 0.6278 - val_accuracy: 0.7387\n",
            "Epoch 48/150\n",
            "579/579 [==============================] - 23s 39ms/step - loss: 0.5028 - accuracy: 0.7806 - val_loss: 0.5938 - val_accuracy: 0.7528\n",
            "Epoch 49/150\n",
            "579/579 [==============================] - 22s 39ms/step - loss: 0.5034 - accuracy: 0.7813 - val_loss: 0.5776 - val_accuracy: 0.7379\n",
            "Epoch 50/150\n",
            "579/579 [==============================] - 22s 39ms/step - loss: 0.4957 - accuracy: 0.7836 - val_loss: 0.5730 - val_accuracy: 0.7551\n",
            "Epoch 51/150\n",
            "579/579 [==============================] - 23s 39ms/step - loss: 0.4960 - accuracy: 0.7804 - val_loss: 0.5817 - val_accuracy: 0.7476\n",
            "Epoch 52/150\n",
            "579/579 [==============================] - 23s 39ms/step - loss: 0.5006 - accuracy: 0.7782 - val_loss: 0.5617 - val_accuracy: 0.7612\n",
            "Epoch 53/150\n",
            "579/579 [==============================] - 23s 39ms/step - loss: 0.4913 - accuracy: 0.7847 - val_loss: 0.5864 - val_accuracy: 0.7515\n",
            "Epoch 54/150\n",
            "579/579 [==============================] - 23s 39ms/step - loss: 0.4870 - accuracy: 0.7853 - val_loss: 0.6086 - val_accuracy: 0.7381\n",
            "Epoch 55/150\n",
            "579/579 [==============================] - 23s 39ms/step - loss: 0.4825 - accuracy: 0.7860 - val_loss: 0.5852 - val_accuracy: 0.7538\n",
            "Epoch 56/150\n",
            "579/579 [==============================] - 23s 39ms/step - loss: 0.4800 - accuracy: 0.7902 - val_loss: 0.5748 - val_accuracy: 0.7562\n",
            "Epoch 57/150\n",
            "579/579 [==============================] - 23s 39ms/step - loss: 0.4824 - accuracy: 0.7899 - val_loss: 0.5595 - val_accuracy: 0.7588\n",
            "Epoch 58/150\n",
            "579/579 [==============================] - 23s 39ms/step - loss: 0.4723 - accuracy: 0.7960 - val_loss: 0.5918 - val_accuracy: 0.7506\n",
            "Epoch 59/150\n",
            "579/579 [==============================] - 23s 39ms/step - loss: 0.4657 - accuracy: 0.7979 - val_loss: 0.5510 - val_accuracy: 0.7642\n",
            "Epoch 60/150\n",
            "579/579 [==============================] - 22s 39ms/step - loss: 0.4576 - accuracy: 0.7997 - val_loss: 0.5705 - val_accuracy: 0.7467\n",
            "Epoch 61/150\n",
            "579/579 [==============================] - 23s 40ms/step - loss: 0.4696 - accuracy: 0.7988 - val_loss: 0.5508 - val_accuracy: 0.7668\n",
            "Epoch 62/150\n",
            "579/579 [==============================] - 23s 39ms/step - loss: 0.4647 - accuracy: 0.7949 - val_loss: 0.5711 - val_accuracy: 0.7553\n",
            "Epoch 63/150\n",
            "579/579 [==============================] - 23s 39ms/step - loss: 0.4572 - accuracy: 0.7983 - val_loss: 0.5778 - val_accuracy: 0.7551\n",
            "Epoch 64/150\n",
            "579/579 [==============================] - 23s 39ms/step - loss: 0.4511 - accuracy: 0.8029 - val_loss: 0.5912 - val_accuracy: 0.7545\n",
            "Epoch 65/150\n",
            "579/579 [==============================] - 23s 39ms/step - loss: 0.4513 - accuracy: 0.8045 - val_loss: 0.5642 - val_accuracy: 0.7566\n",
            "Epoch 66/150\n",
            "579/579 [==============================] - 23s 39ms/step - loss: 0.4472 - accuracy: 0.8026 - val_loss: 0.5751 - val_accuracy: 0.7452\n",
            "Epoch 67/150\n",
            "579/579 [==============================] - 23s 39ms/step - loss: 0.4442 - accuracy: 0.8072 - val_loss: 0.5705 - val_accuracy: 0.7569\n",
            "Epoch 68/150\n",
            "579/579 [==============================] - 23s 40ms/step - loss: 0.4400 - accuracy: 0.8073 - val_loss: 0.5702 - val_accuracy: 0.7519\n",
            "Epoch 69/150\n",
            "579/579 [==============================] - 23s 39ms/step - loss: 0.4399 - accuracy: 0.8089 - val_loss: 0.5773 - val_accuracy: 0.7603\n",
            "Epoch 70/150\n",
            "579/579 [==============================] - 23s 39ms/step - loss: 0.4351 - accuracy: 0.8143 - val_loss: 0.5690 - val_accuracy: 0.7601\n",
            "Epoch 71/150\n",
            "579/579 [==============================] - 23s 39ms/step - loss: 0.4282 - accuracy: 0.8133 - val_loss: 0.5845 - val_accuracy: 0.7569\n",
            "Epoch 72/150\n",
            "579/579 [==============================] - 23s 39ms/step - loss: 0.4299 - accuracy: 0.8147 - val_loss: 0.5568 - val_accuracy: 0.7666\n",
            "Epoch 73/150\n",
            "579/579 [==============================] - 22s 39ms/step - loss: 0.4260 - accuracy: 0.8142 - val_loss: 0.5831 - val_accuracy: 0.7586\n",
            "Epoch 74/150\n",
            "579/579 [==============================] - 22s 39ms/step - loss: 0.4221 - accuracy: 0.8174 - val_loss: 0.5888 - val_accuracy: 0.7536\n",
            "Epoch 75/150\n",
            "579/579 [==============================] - 23s 39ms/step - loss: 0.4225 - accuracy: 0.8174 - val_loss: 0.5831 - val_accuracy: 0.7512\n",
            "Epoch 76/150\n",
            "579/579 [==============================] - 23s 39ms/step - loss: 0.4166 - accuracy: 0.8223 - val_loss: 0.5903 - val_accuracy: 0.7532\n",
            "Epoch 77/150\n",
            "579/579 [==============================] - 23s 39ms/step - loss: 0.4111 - accuracy: 0.8224 - val_loss: 0.5790 - val_accuracy: 0.7534\n",
            "Epoch 78/150\n",
            "579/579 [==============================] - 23s 39ms/step - loss: 0.4104 - accuracy: 0.8232 - val_loss: 0.5740 - val_accuracy: 0.7664\n",
            "Epoch 79/150\n",
            "579/579 [==============================] - 23s 39ms/step - loss: 0.4051 - accuracy: 0.8259 - val_loss: 0.5732 - val_accuracy: 0.7644\n",
            "Epoch 80/150\n",
            "579/579 [==============================] - 22s 39ms/step - loss: 0.4040 - accuracy: 0.8258 - val_loss: 0.5912 - val_accuracy: 0.7607\n",
            "Epoch 81/150\n",
            "579/579 [==============================] - 23s 39ms/step - loss: 0.4045 - accuracy: 0.8293 - val_loss: 0.5812 - val_accuracy: 0.7651\n",
            "Epoch 82/150\n",
            "579/579 [==============================] - 23s 39ms/step - loss: 0.4006 - accuracy: 0.8277 - val_loss: 0.6054 - val_accuracy: 0.7525\n",
            "Epoch 83/150\n",
            "579/579 [==============================] - 23s 39ms/step - loss: 0.4013 - accuracy: 0.8289 - val_loss: 0.5696 - val_accuracy: 0.7644\n",
            "Epoch 84/150\n",
            "579/579 [==============================] - 22s 39ms/step - loss: 0.3989 - accuracy: 0.8293 - val_loss: 0.5736 - val_accuracy: 0.7569\n",
            "Epoch 85/150\n",
            "579/579 [==============================] - 23s 39ms/step - loss: 0.3930 - accuracy: 0.8336 - val_loss: 0.5691 - val_accuracy: 0.7642\n",
            "Epoch 86/150\n",
            "579/579 [==============================] - 23s 39ms/step - loss: 0.3875 - accuracy: 0.8360 - val_loss: 0.6011 - val_accuracy: 0.7517\n",
            "Epoch 87/150\n",
            "579/579 [==============================] - 23s 39ms/step - loss: 0.3964 - accuracy: 0.8310 - val_loss: 0.5924 - val_accuracy: 0.7575\n",
            "Epoch 88/150\n",
            "579/579 [==============================] - 23s 39ms/step - loss: 0.3866 - accuracy: 0.8360 - val_loss: 0.5881 - val_accuracy: 0.7577\n",
            "Epoch 89/150\n",
            "579/579 [==============================] - 22s 39ms/step - loss: 0.3814 - accuracy: 0.8379 - val_loss: 0.6227 - val_accuracy: 0.7519\n",
            "Epoch 90/150\n",
            "579/579 [==============================] - 23s 39ms/step - loss: 0.3786 - accuracy: 0.8372 - val_loss: 0.5915 - val_accuracy: 0.7569\n",
            "Epoch 91/150\n",
            "579/579 [==============================] - 23s 39ms/step - loss: 0.3816 - accuracy: 0.8354 - val_loss: 0.5803 - val_accuracy: 0.7629\n",
            "Epoch 92/150\n",
            "579/579 [==============================] - 23s 39ms/step - loss: 0.3783 - accuracy: 0.8387 - val_loss: 0.5999 - val_accuracy: 0.7651\n",
            "Epoch 93/150\n",
            "579/579 [==============================] - 23s 39ms/step - loss: 0.3735 - accuracy: 0.8392 - val_loss: 0.6040 - val_accuracy: 0.7620\n",
            "Epoch 94/150\n",
            "579/579 [==============================] - 23s 39ms/step - loss: 0.3732 - accuracy: 0.8419 - val_loss: 0.5837 - val_accuracy: 0.7631\n",
            "Epoch 95/150\n",
            "579/579 [==============================] - 23s 39ms/step - loss: 0.3705 - accuracy: 0.8450 - val_loss: 0.6239 - val_accuracy: 0.7573\n",
            "Epoch 96/150\n",
            "579/579 [==============================] - 23s 40ms/step - loss: 0.3714 - accuracy: 0.8430 - val_loss: 0.5953 - val_accuracy: 0.7562\n",
            "Epoch 97/150\n",
            "579/579 [==============================] - 23s 39ms/step - loss: 0.3683 - accuracy: 0.8419 - val_loss: 0.6154 - val_accuracy: 0.7558\n",
            "Epoch 98/150\n",
            "579/579 [==============================] - 23s 39ms/step - loss: 0.3732 - accuracy: 0.8462 - val_loss: 0.6199 - val_accuracy: 0.7543\n",
            "Epoch 99/150\n",
            "579/579 [==============================] - 22s 39ms/step - loss: 0.3648 - accuracy: 0.8454 - val_loss: 0.5875 - val_accuracy: 0.7655\n",
            "Epoch 100/150\n",
            "579/579 [==============================] - 23s 39ms/step - loss: 0.3624 - accuracy: 0.8468 - val_loss: 0.6053 - val_accuracy: 0.7605\n",
            "Epoch 101/150\n",
            "579/579 [==============================] - 23s 39ms/step - loss: 0.3566 - accuracy: 0.8497 - val_loss: 0.6208 - val_accuracy: 0.7651\n",
            "Epoch 102/150\n",
            "579/579 [==============================] - 23s 39ms/step - loss: 0.3520 - accuracy: 0.8539 - val_loss: 0.6054 - val_accuracy: 0.7614\n",
            "Epoch 103/150\n",
            "579/579 [==============================] - 23s 39ms/step - loss: 0.3582 - accuracy: 0.8512 - val_loss: 0.6437 - val_accuracy: 0.7536\n",
            "Epoch 104/150\n",
            "579/579 [==============================] - 22s 39ms/step - loss: 0.3561 - accuracy: 0.8529 - val_loss: 0.6295 - val_accuracy: 0.7612\n",
            "Epoch 105/150\n",
            "579/579 [==============================] - 23s 39ms/step - loss: 0.3557 - accuracy: 0.8495 - val_loss: 0.5873 - val_accuracy: 0.7689\n",
            "Epoch 106/150\n",
            "579/579 [==============================] - 23s 39ms/step - loss: 0.3474 - accuracy: 0.8552 - val_loss: 0.6018 - val_accuracy: 0.7586\n",
            "Epoch 107/150\n",
            "579/579 [==============================] - 23s 39ms/step - loss: 0.3507 - accuracy: 0.8543 - val_loss: 0.5949 - val_accuracy: 0.7661\n",
            "Epoch 108/150\n",
            "579/579 [==============================] - 23s 39ms/step - loss: 0.3451 - accuracy: 0.8536 - val_loss: 0.5931 - val_accuracy: 0.7726\n",
            "Epoch 109/150\n",
            "579/579 [==============================] - 23s 39ms/step - loss: 0.3470 - accuracy: 0.8522 - val_loss: 0.6174 - val_accuracy: 0.7633\n",
            "Epoch 110/150\n",
            "579/579 [==============================] - 23s 39ms/step - loss: 0.3412 - accuracy: 0.8563 - val_loss: 0.6242 - val_accuracy: 0.7560\n",
            "Epoch 111/150\n",
            "579/579 [==============================] - 23s 39ms/step - loss: 0.3393 - accuracy: 0.8550 - val_loss: 0.6299 - val_accuracy: 0.7543\n",
            "Epoch 112/150\n",
            "579/579 [==============================] - 23s 39ms/step - loss: 0.3391 - accuracy: 0.8572 - val_loss: 0.6394 - val_accuracy: 0.7504\n",
            "Epoch 113/150\n",
            "579/579 [==============================] - 23s 39ms/step - loss: 0.3404 - accuracy: 0.8565 - val_loss: 0.6116 - val_accuracy: 0.7603\n",
            "Epoch 114/150\n",
            "579/579 [==============================] - 22s 39ms/step - loss: 0.3326 - accuracy: 0.8585 - val_loss: 0.6376 - val_accuracy: 0.7668\n",
            "Epoch 115/150\n",
            "579/579 [==============================] - 23s 39ms/step - loss: 0.3320 - accuracy: 0.8622 - val_loss: 0.6516 - val_accuracy: 0.7510\n",
            "Epoch 116/150\n",
            "579/579 [==============================] - 23s 39ms/step - loss: 0.3292 - accuracy: 0.8640 - val_loss: 0.6300 - val_accuracy: 0.7523\n",
            "Epoch 117/150\n",
            "579/579 [==============================] - 23s 41ms/step - loss: 0.3305 - accuracy: 0.8611 - val_loss: 0.6441 - val_accuracy: 0.7605\n",
            "Epoch 118/150\n",
            "579/579 [==============================] - 23s 39ms/step - loss: 0.3347 - accuracy: 0.8611 - val_loss: 0.6070 - val_accuracy: 0.7638\n",
            "Epoch 119/150\n",
            "579/579 [==============================] - 23s 39ms/step - loss: 0.3232 - accuracy: 0.8673 - val_loss: 0.6308 - val_accuracy: 0.7590\n",
            "Epoch 120/150\n",
            "579/579 [==============================] - 23s 39ms/step - loss: 0.3278 - accuracy: 0.8612 - val_loss: 0.6291 - val_accuracy: 0.7586\n",
            "Epoch 121/150\n",
            "579/579 [==============================] - 23s 39ms/step - loss: 0.3312 - accuracy: 0.8630 - val_loss: 0.6369 - val_accuracy: 0.7538\n",
            "Epoch 122/150\n",
            "579/579 [==============================] - 23s 39ms/step - loss: 0.3244 - accuracy: 0.8656 - val_loss: 0.6340 - val_accuracy: 0.7648\n",
            "Epoch 123/150\n",
            "579/579 [==============================] - 23s 40ms/step - loss: 0.3243 - accuracy: 0.8646 - val_loss: 0.6517 - val_accuracy: 0.7519\n",
            "Epoch 124/150\n",
            "579/579 [==============================] - 23s 39ms/step - loss: 0.3158 - accuracy: 0.8698 - val_loss: 0.6239 - val_accuracy: 0.7640\n",
            "Epoch 125/150\n",
            "579/579 [==============================] - 23s 39ms/step - loss: 0.3178 - accuracy: 0.8679 - val_loss: 0.6212 - val_accuracy: 0.7618\n",
            "Epoch 126/150\n",
            "579/579 [==============================] - 23s 39ms/step - loss: 0.3141 - accuracy: 0.8692 - val_loss: 0.6235 - val_accuracy: 0.7651\n",
            "Epoch 127/150\n",
            "579/579 [==============================] - 23s 39ms/step - loss: 0.3157 - accuracy: 0.8690 - val_loss: 0.6296 - val_accuracy: 0.7569\n",
            "Epoch 128/150\n",
            "579/579 [==============================] - 23s 39ms/step - loss: 0.3117 - accuracy: 0.8719 - val_loss: 0.6353 - val_accuracy: 0.7646\n",
            "Epoch 129/150\n",
            "579/579 [==============================] - 23s 39ms/step - loss: 0.3110 - accuracy: 0.8740 - val_loss: 0.6519 - val_accuracy: 0.7620\n",
            "Epoch 130/150\n",
            "579/579 [==============================] - 23s 39ms/step - loss: 0.3078 - accuracy: 0.8710 - val_loss: 0.6282 - val_accuracy: 0.7610\n",
            "Epoch 131/150\n",
            "579/579 [==============================] - 23s 39ms/step - loss: 0.3072 - accuracy: 0.8746 - val_loss: 0.6427 - val_accuracy: 0.7594\n",
            "Epoch 132/150\n",
            "579/579 [==============================] - 23s 39ms/step - loss: 0.3076 - accuracy: 0.8710 - val_loss: 0.6794 - val_accuracy: 0.7616\n",
            "Epoch 133/150\n",
            "579/579 [==============================] - 23s 39ms/step - loss: 0.3049 - accuracy: 0.8743 - val_loss: 0.6637 - val_accuracy: 0.7655\n",
            "Epoch 134/150\n",
            "579/579 [==============================] - 23s 39ms/step - loss: 0.3099 - accuracy: 0.8708 - val_loss: 0.6693 - val_accuracy: 0.7588\n",
            "Epoch 135/150\n",
            "579/579 [==============================] - 23s 40ms/step - loss: 0.3009 - accuracy: 0.8770 - val_loss: 0.6239 - val_accuracy: 0.7722\n",
            "Epoch 136/150\n",
            "579/579 [==============================] - 23s 40ms/step - loss: 0.2999 - accuracy: 0.8773 - val_loss: 0.6272 - val_accuracy: 0.7685\n",
            "Epoch 137/150\n",
            "579/579 [==============================] - 23s 40ms/step - loss: 0.3006 - accuracy: 0.8773 - val_loss: 0.6334 - val_accuracy: 0.7607\n",
            "Epoch 138/150\n",
            "579/579 [==============================] - 23s 39ms/step - loss: 0.2942 - accuracy: 0.8802 - val_loss: 0.6254 - val_accuracy: 0.7707\n",
            "Epoch 139/150\n",
            "579/579 [==============================] - 23s 39ms/step - loss: 0.2912 - accuracy: 0.8799 - val_loss: 0.6458 - val_accuracy: 0.7558\n",
            "Epoch 140/150\n",
            "579/579 [==============================] - 23s 40ms/step - loss: 0.2953 - accuracy: 0.8806 - val_loss: 0.6814 - val_accuracy: 0.7566\n",
            "Epoch 141/150\n",
            "579/579 [==============================] - 23s 39ms/step - loss: 0.2915 - accuracy: 0.8787 - val_loss: 0.6540 - val_accuracy: 0.7536\n",
            "Epoch 142/150\n",
            "579/579 [==============================] - 23s 39ms/step - loss: 0.2868 - accuracy: 0.8804 - val_loss: 0.6670 - val_accuracy: 0.7577\n",
            "Epoch 143/150\n",
            "579/579 [==============================] - 23s 39ms/step - loss: 0.2893 - accuracy: 0.8823 - val_loss: 0.6738 - val_accuracy: 0.7573\n",
            "Epoch 144/150\n",
            "579/579 [==============================] - 23s 39ms/step - loss: 0.2916 - accuracy: 0.8788 - val_loss: 0.6410 - val_accuracy: 0.7698\n",
            "Epoch 145/150\n",
            "579/579 [==============================] - 23s 39ms/step - loss: 0.2936 - accuracy: 0.8808 - val_loss: 0.6568 - val_accuracy: 0.7731\n",
            "Epoch 146/150\n",
            "579/579 [==============================] - 23s 40ms/step - loss: 0.2932 - accuracy: 0.8792 - val_loss: 0.7033 - val_accuracy: 0.7445\n",
            "Epoch 147/150\n",
            "579/579 [==============================] - 23s 40ms/step - loss: 0.2921 - accuracy: 0.8794 - val_loss: 0.6520 - val_accuracy: 0.7631\n",
            "Epoch 148/150\n",
            "579/579 [==============================] - 23s 39ms/step - loss: 0.2852 - accuracy: 0.8852 - val_loss: 0.6480 - val_accuracy: 0.7653\n",
            "Epoch 149/150\n",
            "579/579 [==============================] - 23s 39ms/step - loss: 0.2885 - accuracy: 0.8779 - val_loss: 0.6557 - val_accuracy: 0.7560\n",
            "Epoch 150/150\n",
            "579/579 [==============================] - 23s 40ms/step - loss: 0.2798 - accuracy: 0.8860 - val_loss: 0.7058 - val_accuracy: 0.7569\n"
          ],
          "name": "stdout"
        }
      ]
    },
    {
      "cell_type": "code",
      "metadata": {
        "colab": {
          "base_uri": "https://localhost:8080/"
        },
        "id": "ktEt_jdV1mTq",
        "outputId": "4a863e29-88ef-4bf8-9887-266ef434da0d"
      },
      "source": [
        "best_model = create_model()\n",
        "best_model.load_weights('best_model.h5')"
      ],
      "execution_count": 20,
      "outputs": [
        {
          "output_type": "stream",
          "text": [
            "Model: \"sequential_1\"\n",
            "_________________________________________________________________\n",
            "Layer (type)                 Output Shape              Param #   \n",
            "=================================================================\n",
            "bidirectional_2 (Bidirection (None, 60, 200)           81600     \n",
            "_________________________________________________________________\n",
            "bidirectional_3 (Bidirection (None, 60, 120)           125280    \n",
            "_________________________________________________________________\n",
            "attention_1 (Attention)      (None, 120)               180       \n",
            "_________________________________________________________________\n",
            "dropout_1 (Dropout)          (None, 120)               0         \n",
            "_________________________________________________________________\n",
            "dense_2 (Dense)              (None, 256)               30976     \n",
            "_________________________________________________________________\n",
            "dense_3 (Dense)              (None, 4)                 1028      \n",
            "=================================================================\n",
            "Total params: 239,064\n",
            "Trainable params: 239,064\n",
            "Non-trainable params: 0\n",
            "_________________________________________________________________\n",
            "None\n"
          ],
          "name": "stdout"
        }
      ]
    },
    {
      "cell_type": "code",
      "metadata": {
        "id": "U1omud6n7Jca"
      },
      "source": [
        "predictions = model.predict(X_test)\n"
      ],
      "execution_count": 32,
      "outputs": []
    },
    {
      "cell_type": "code",
      "metadata": {
        "colab": {
          "base_uri": "https://localhost:8080/"
        },
        "id": "YUpvlhfNM5Dc",
        "outputId": "dd0d692d-8498-4596-9fe2-48f773fe3139"
      },
      "source": [
        "print(predictions[:1])"
      ],
      "execution_count": 39,
      "outputs": [
        {
          "output_type": "stream",
          "text": [
            "[[1.05545205e-05 3.08008453e-06 9.99981880e-01 4.47836783e-06]]\n"
          ],
          "name": "stdout"
        }
      ]
    },
    {
      "cell_type": "code",
      "metadata": {
        "colab": {
          "base_uri": "https://localhost:8080/"
        },
        "id": "fq6Qc7PJ8-qi",
        "outputId": "7d96fd43-251b-45d9-c200-3bb300313cb1"
      },
      "source": [
        "enc.categories_"
      ],
      "execution_count": 33,
      "outputs": [
        {
          "output_type": "execute_result",
          "data": {
            "text/plain": [
              "[array(['F', 'N', 'T', 'W'], dtype=object)]"
            ]
          },
          "metadata": {
            "tags": []
          },
          "execution_count": 33
        }
      ]
    },
    {
      "cell_type": "code",
      "metadata": {
        "id": "3gb8pa-C96zp"
      },
      "source": [
        "Y_resuts = np.argmax(y_test, axis=1)\n",
        "predictions_res = np.argmax(predictions, axis=1)\n"
      ],
      "execution_count": 34,
      "outputs": []
    },
    {
      "cell_type": "code",
      "metadata": {
        "colab": {
          "base_uri": "https://localhost:8080/",
          "height": 330
        },
        "id": "kPV9HnMeor4K",
        "outputId": "62a4737d-81ab-4c0d-945d-2e0c3c9d48ef"
      },
      "source": [
        "plt.hist(Y_resuts)"
      ],
      "execution_count": 35,
      "outputs": [
        {
          "output_type": "execute_result",
          "data": {
            "text/plain": [
              "(array([ 837.,    0.,    0.,  892.,    0.,    0., 1229.,    0.,    0.,\n",
              "        1673.]),\n",
              " array([0. , 0.3, 0.6, 0.9, 1.2, 1.5, 1.8, 2.1, 2.4, 2.7, 3. ]),\n",
              " <a list of 10 Patch objects>)"
            ]
          },
          "metadata": {
            "tags": []
          },
          "execution_count": 35
        },
        {
          "output_type": "display_data",
          "data": {
            "image/png": "[encoded data removed]",
            "text/plain": [
              "<Figure size 432x288 with 1 Axes>"
            ]
          },
          "metadata": {
            "tags": [],
            "needs_background": "light"
          }
        }
      ]
    },
    {
      "cell_type": "code",
      "metadata": {
        "colab": {
          "base_uri": "https://localhost:8080/",
          "height": 655
        },
        "id": "sNMomjfY-iA6",
        "outputId": "db9f5c71-5ae7-4382-c863-fd3331d62bc2"
      },
      "source": [
        "from sklearn.metrics import confusion_matrix,ConfusionMatrixDisplay, precision_recall_fscore_support, accuracy_score\n",
        "\n",
        "labels = enc.categories_[0]\n",
        "\n",
        "cm = confusion_matrix(Y_resuts, predictions_res)\n",
        "print(cm)\n",
        "disp = ConfusionMatrixDisplay(confusion_matrix=cm,display_labels= labels)\n",
        "fig, ax = plt.subplots(figsize=(10,10))\n",
        "disp.plot(ax=ax)"
      ],
      "execution_count": 36,
      "outputs": [
        {
          "output_type": "stream",
          "text": [
            "[[ 453   88   35  261]\n",
            " [  20  661  200   11]\n",
            " [   2   88 1137    2]\n",
            " [ 312   84   23 1254]]\n"
          ],
          "name": "stdout"
        },
        {
          "output_type": "execute_result",
          "data": {
            "text/plain": [
              "<sklearn.metrics._plot.confusion_matrix.ConfusionMatrixDisplay at 0x7fd58de24e90>"
            ]
          },
          "metadata": {
            "tags": []
          },
          "execution_count": 36
        },
        {
          "output_type": "display_data",
          "data": {
            "image/png": "[encoded data removed]",
            "text/plain": [
              "<Figure size 720x720 with 2 Axes>"
            ]
          },
          "metadata": {
            "tags": [],
            "needs_background": "light"
          }
        }
      ]
    },
    {
      "source": [
        "labels:\n",
        "N = Neutral, T = sadness, W = anger, F = happiness"
      ],
      "cell_type": "markdown",
      "metadata": {}
    },
    {
      "cell_type": "code",
      "metadata": {
        "colab": {
          "base_uri": "https://localhost:8080/"
        },
        "id": "j0bMdd-X-1IH",
        "outputId": "f59b8c10-cdf9-41c4-cb2b-3ab6c4620684"
      },
      "source": [
        "from sklearn.metrics import classification_report\n",
        "\n",
        "print(classification_report(Y_resuts, predictions_res, target_names=labels))\n"
      ],
      "execution_count": 37,
      "outputs": [
        {
          "output_type": "stream",
          "text": [
            "              precision    recall  f1-score   support\n",
            "\n",
            "           F       0.58      0.54      0.56       837\n",
            "           N       0.72      0.74      0.73       892\n",
            "           T       0.82      0.93      0.87      1229\n",
            "           W       0.82      0.75      0.78      1673\n",
            "\n",
            "    accuracy                           0.76      4631\n",
            "   macro avg       0.73      0.74      0.73      4631\n",
            "weighted avg       0.76      0.76      0.75      4631\n",
            "\n"
          ],
          "name": "stdout"
        }
      ]
    },
    {
      "cell_type": "code",
      "metadata": {
        "id": "YtnKjnEQATT4"
      },
      "source": [],
      "execution_count": 37,
      "outputs": []
    }
  ]
}